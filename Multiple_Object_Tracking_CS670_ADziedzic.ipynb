{
 "cells": [
  {
   "cell_type": "code",
   "execution_count": null,
   "id": "6bcf6a6b",
   "metadata": {},
   "outputs": [],
   "source": [
    "import cv2\n",
    "import numpy as np\n",
    "import filterpy.kalman as kalman\n",
    "\n",
    "class ObjectDetector:\n",
    "\n",
    "    def __init__(self, model_path):\n",
    "        self.model = cv2.dnn.readNet(model_path)\n",
    "\n",
    "    def detect(self, image):\n",
    "        \"\"\"Detects objects in the given image.\"\"\"\n",
    "        # Convert the image to a blob.\n",
    "        blob = cv2.dnn.blobFromImage(image, 1.0, (300, 300), (104, 117, 123))\n",
    "\n",
    "        # Pass the blob through the network.\n",
    "        self.model.setInput(blob)\n",
    "        detections = self.model.forward()\n",
    "\n",
    "        # Extract the bounding boxes of the detected objects.\n",
    "        bounding_boxes = []\n",
    "        for detection in detections[0, 0, :, :]:\n",
    "            # Extract the confidence score.\n",
    "            confidence = detection[2]\n",
    "\n",
    "            # Only consider objects with a high confidence score.\n",
    "            if confidence > 0.5:\n",
    "                bounding_box = detection[3:7] * image.shape[1:3]\n",
    "                bounding_boxes.append(bounding_box)\n",
    "\n",
    "        return bounding_boxes"
   ]
  },
  {
   "cell_type": "code",
   "execution_count": null,
   "id": "da94bca5",
   "metadata": {},
   "outputs": [],
   "source": [
    "class Tracker:\n",
    "\n",
    "    def __init__(self, bounding_boxes, initial_state):\n",
    "        self.kf = kalman.KalmanFilter(dim_x=7, dim_z=4)\n",
    "        self.kf.x = np.array(initial_state).reshape((7,))\n",
    "        self.kf.P = np.eye(7)\n",
    "        self.bounding_boxes = bounding_boxes\n",
    "\n",
    "    def predict(self):\n",
    "        self.kf.predict()\n",
    "\n",
    "    def update(self, bounding_box):\n",
    "        self.kf.update(np.array(bounding_box).reshape((4,)))\n",
    "\n",
    "    def get_position(self):\n",
    "        return self.kf.x[0:2]"
   ]
  },
  {
   "cell_type": "code",
   "execution_count": null,
   "id": "01534697",
   "metadata": {},
   "outputs": [],
   "source": [
    "def main():\n",
    "    # Load the object detector.\n",
    "    object_detector = ObjectDetector(\"ball_detector.xml\")\n",
    "\n",
    "    # Load the video.\n",
    "    cap = cv2.VideoCapture(\"ball.mp4\")\n",
    "\n",
    "    # Initialize the tracker.\n",
    "    tracker = Tracker([], [0, 0, 0, 0, 0, 0, 0])\n",
    "\n",
    "    # Process each frame in the video.\n",
    "    while cap.isOpened():\n",
    "        # Get the next frame.\n",
    "        ret, frame = cap.read()\n",
    "\n",
    "        # Detect objects in the frame.\n",
    "        bounding_boxes = object_detector.detect(frame)\n",
    "\n",
    "        # Update the tracker.\n",
    "        tracker.update(bounding_boxes[0])\n",
    "\n",
    "        # Get the position of the object.\n",
    "        position = tracker.get_position()\n",
    "\n",
    "        # Draw the bounding box and position of the object.\n",
    "        cv2.rectangle(frame, bounding_boxes[0], (0, 255, 0), 2)\n",
    "        cv2.circle(frame, (int(position[0]), int(position[1])), 5, (0, 0, 255), -1)\n",
    "\n",
    "        # Show the frame.\n",
    "        cv2.imshow(\"Frame\", frame)\n",
    "\n",
    "        # Press q to quit.\n",
    "        if cv2.waitKey(1) & 0xFF == ord(\"q\"):\n",
    "            break\n",
    "\n",
    "    cap.release()\n",
    "    cv2.destroyAllWindows()\n",
    "\n",
    "if __name__ == \"__main__\":\n",
    "    main()"
   ]
  },
  {
   "cell_type": "code",
   "execution_count": null,
   "id": "8e792d0f",
   "metadata": {},
   "outputs": [],
   "source": [
    "# his code will load the object detector model, load the video, and then process each frame in the video. \n",
    "# For each frame, the object detector will be used to detect objects. The bounding boxes of the detected objects \n",
    "# will be passed to the tracker, which will use a Kalman filter to track the objects over time. The position of the \n",
    "# tracked objects will be drawn on the frame. The user can press q to quit."
   ]
  },
  {
   "cell_type": "code",
   "execution_count": null,
   "id": "20accdda",
   "metadata": {},
   "outputs": [],
   "source": [
    "# To run the code, you can save it as a file called object_tracker.py and then run it from the command line \n",
    "# using the following:"
   ]
  },
  {
   "cell_type": "code",
   "execution_count": null,
   "id": "d992037c",
   "metadata": {},
   "outputs": [],
   "source": [
    "python object_tracker.py"
   ]
  },
  {
   "cell_type": "code",
   "execution_count": null,
   "id": "0f28133c",
   "metadata": {},
   "outputs": [],
   "source": [
    "# The output of the code will be a video with the bounding boxes and positions\n",
    "# of the tracked objects drawn on each frame."
   ]
  }
 ],
 "metadata": {
  "kernelspec": {
   "display_name": "Python 3 (ipykernel)",
   "language": "python",
   "name": "python3"
  },
  "language_info": {
   "codemirror_mode": {
    "name": "ipython",
    "version": 3
   },
   "file_extension": ".py",
   "mimetype": "text/x-python",
   "name": "python",
   "nbconvert_exporter": "python",
   "pygments_lexer": "ipython3",
   "version": "3.9.7"
  }
 },
 "nbformat": 4,
 "nbformat_minor": 5
}
